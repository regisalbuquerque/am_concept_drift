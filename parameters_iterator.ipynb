{
 "cells": [
  {
   "cell_type": "code",
   "execution_count": 53,
   "metadata": {},
   "outputs": [],
   "source": [
    "import os\n",
    "import river\n",
    "from river import ensemble, evaluate, forest, metrics, neighbors, stream, tree"
   ]
  },
  {
   "cell_type": "code",
   "execution_count": 120,
   "metadata": {},
   "outputs": [],
   "source": [
    "\n"
   ]
  },
  {
   "cell_type": "code",
   "execution_count": 118,
   "metadata": {},
   "outputs": [
    {
     "ename": "KeyError",
     "evalue": "'converter'",
     "output_type": "error",
     "traceback": [
      "\u001b[0;31m---------------------------------------------------------------------------\u001b[0m",
      "\u001b[0;31mKeyError\u001b[0m                                  Traceback (most recent call last)",
      "Cell \u001b[0;32mIn[118], line 1\u001b[0m\n\u001b[0;32m----> 1\u001b[0m bases[\u001b[39m'\u001b[39;49m\u001b[39mchess\u001b[39;49m\u001b[39m'\u001b[39;49m][\u001b[39m'\u001b[39;49m\u001b[39mconverter\u001b[39;49m\u001b[39m'\u001b[39;49m]\u001b[39m.\u001b[39mkeys()\n",
      "\u001b[0;31mKeyError\u001b[0m: 'converter'"
     ]
    }
   ],
   "source": [
    "bases['chess']['converter'].keys()"
   ]
  },
  {
   "cell_type": "code",
   "execution_count": 119,
   "metadata": {},
   "outputs": [
    {
     "data": {
      "text/plain": [
       "['y', 'x']"
      ]
     },
     "execution_count": 119,
     "metadata": {},
     "output_type": "execute_result"
    }
   ],
   "source": [
    "list(bases['chess']['fieldnames'])"
   ]
  },
  {
   "cell_type": "code",
   "execution_count": 126,
   "metadata": {},
   "outputs": [
    {
     "name": "stdout",
     "output_type": "stream",
     "text": [
      "starting chess, at 2023-07-05 14:52:48.552221\n",
      "evaluating tree, at 2023-07-05 14:52:48.779903\n"
     ]
    }
   ],
   "source": [
    "import csv\n",
    "import itertools\n",
    "import os\n",
    "import pandas as pd\n",
    "import river\n",
    "from river import ensemble, evaluate, forest, metrics, neighbors, stream, tree\n",
    "from datetime import datetime\n",
    "\n",
    "algos = {\n",
    "    'tree': tree.ExtremelyFastDecisionTreeClassifier(),\n",
    "    'forest': forest.ARFClassifier(),\n",
    "    # 'ensemble': ensemble.LeveragingBaggingClassifier(),\n",
    "    'neighbors': neighbors.SAMKNNClassifier()\n",
    "}\n",
    "\n",
    "bases = {\n",
    "    'chess': {\n",
    "        'data': 'datasets/artificial/chess/transientChessboard.data',\n",
    "        'labels': 'datasets/artificial/chess/transientChessboard.labels',\n",
    "        'fieldnames': {'x', 'y'},\n",
    "        'drop': None},\n",
    "    'rbf': {\n",
    "        'data': 'datasets/artificial/rbf/movingRBF.data',\n",
    "        'labels': 'datasets/artificial/rbf/movingRBF.labels',\n",
    "        'fieldnames': {'x0', 'x1', 'x2', 'x3', 'x4',\n",
    "                       'x5', 'x6', 'x7', 'x8', 'x9'},\n",
    "        'drop': None},\n",
    "    'sea': {\n",
    "        'data': 'datasets/artificial/sea/SEA_training_data.csv',\n",
    "        'labels': 'datasets/artificial/sea/SEA_training_class.csv',\n",
    "        'fieldnames': {'x', 'y', 'z'},\n",
    "        'drop': ['z']},\n",
    "    'squares': {\n",
    "        'data': 'datasets/artificial/movingSquares/movingSquares.data',\n",
    "        'labels': 'datasets/artificial/movingSquares/movingSquares.labels',\n",
    "        'fieldnames': {'x', 'y'},\n",
    "        'drop': None},\n",
    "}\n",
    "\n",
    "all_metrics = [\n",
    "    'Accuracy',\n",
    "    'Precision',\n",
    "    'Recall',\n",
    "    'F1',\n",
    "    'GeometricMean',\n",
    "]\n",
    "\n",
    "_metric = []\n",
    "for m in all_metrics:\n",
    "    _m = getattr(metrics, m)()\n",
    "    _metric.append(_m)\n",
    "\n",
    "for bas in bases:\n",
    "\n",
    "    print(f'starting {bas}, at {datetime.now()}')\n",
    "\n",
    "    try:\n",
    "        f = open(bases[bas]['labels'], 'r')\n",
    "        y = []\n",
    "        for line in f.readlines():\n",
    "            y.append(int(line))\n",
    "        f.close()\n",
    "    except:\n",
    "        print('Y not found')\n",
    "    try:\n",
    "        f = open(bases[bas]['data'], 'r')\n",
    "        x = csv.DictReader(\n",
    "            f, delimiter=' ', quoting=csv.QUOTE_NONNUMERIC, fieldnames=bases[bas]['fieldnames'])\n",
    "    except:\n",
    "        print('X not found')\n",
    "    \n",
    "    for mod in algos:\n",
    "\n",
    "        model = algos[mod]\n",
    "\n",
    "        print(f'evaluating {mod}, at {datetime.now()}')\n",
    "\n",
    "        try:\n",
    "            w = open(f'results/{mod}_{bas}.csv', 'w')\n",
    "            writer = csv.writer(w)\n",
    "            writer.writerow(['index',\n",
    "                             'Accuracy',\n",
    "                             'Precision',\n",
    "                             'Recall',\n",
    "                             'F1',\n",
    "                             'GeometricMean'\n",
    "                             ])\n",
    "        except:\n",
    "            print('Result file can\\'t be opened')\n",
    "\n",
    "        for i, _x in enumerate(x):\n",
    "            # Test Then Train\n",
    "            # Test\n",
    "            y_pred = model.predict_one(_x)\n",
    "            # Train\n",
    "            model.learn_one(_x, y[i])\n",
    "\n",
    "            if y_pred is not None:\n",
    "                a = [i]\n",
    "                for m in _metric:\n",
    "                    m.update(y[i], y_pred)\n",
    "                    a.append(m.get())\n",
    "\n",
    "                writer.writerow(a)\n",
    "        f.close()"
   ]
  }
 ],
 "metadata": {
  "kernelspec": {
   "display_name": "venv",
   "language": "python",
   "name": "python3"
  },
  "language_info": {
   "codemirror_mode": {
    "name": "ipython",
    "version": 3
   },
   "file_extension": ".py",
   "mimetype": "text/x-python",
   "name": "python",
   "nbconvert_exporter": "python",
   "pygments_lexer": "ipython3",
   "version": "3.10.6"
  },
  "orig_nbformat": 4
 },
 "nbformat": 4,
 "nbformat_minor": 2
}
