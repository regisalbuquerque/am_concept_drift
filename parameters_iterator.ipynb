{
 "cells": [
  {
   "cell_type": "code",
   "execution_count": 143,
   "metadata": {},
   "outputs": [],
   "source": [
    "# import pandas as pd\n",
    "# df = pd.read_csv('datasets/artificial/sea/SEA_training_data.csv', delimiter=' ', header=None)\n",
    "# df.iloc[:,0:2].to_csv('datasets/artificial/sea/SEA_training_data_xy.csv', sep=' ' ,index=False, header=False)"
   ]
  },
  {
   "cell_type": "code",
   "execution_count": 2,
   "metadata": {},
   "outputs": [
    {
     "name": "stdout",
     "output_type": "stream",
     "text": [
      "starting sea, at 2023-07-07 13:22:46.266820\n",
      "import sea labels, ok!\n",
      "import sea data, ok!\n",
      "finishing sea, at 2023-07-07 13:38:11.656157\n"
     ]
    }
   ],
   "source": [
    "import csv\n",
    "from river import ensemble, forest, linear_model, metrics, neighbors, preprocessing, tree\n",
    "from datetime import datetime\n",
    "\n",
    "algos = {\n",
    "    'ensemble': ensemble.LeveragingBaggingClassifier(tree.HoeffdingTreeClassifier()),\n",
    "    'tree': tree.ExtremelyFastDecisionTreeClassifier(),\n",
    "    'forest': forest.ARFClassifier(),\n",
    "    'neighbors': neighbors.SAMKNNClassifier()\n",
    "}\n",
    "\n",
    "bases = {\n",
    "    'chess': {\n",
    "        'data': 'datasets/artificial/chess/transientChessboard.data',\n",
    "        'labels': 'datasets/artificial/chess/transientChessboard.labels',\n",
    "        'fieldnames': {'x', 'y'},\n",
    "    },\n",
    "    'rbf': {\n",
    "        'data': 'datasets/artificial/rbf/movingRBF.data',\n",
    "        'labels': 'datasets/artificial/rbf/movingRBF.labels',\n",
    "        'fieldnames': {'x0', 'x1', 'x2', 'x3', 'x4',\n",
    "                       'x5', 'x6', 'x7', 'x8', 'x9'},\n",
    "    },\n",
    "    'sea': {\n",
    "        'data': 'datasets/artificial/sea/SEA_training_data_xy.csv',\n",
    "        'labels': 'datasets/artificial/sea/SEA_training_class.csv',\n",
    "        'fieldnames': {'x', 'y'},\n",
    "    },\n",
    "    'squares': {\n",
    "        'data': 'datasets/artificial/movingSquares/movingSquares.data',\n",
    "        'labels': 'datasets/artificial/movingSquares/movingSquares.labels',\n",
    "        'fieldnames': {'x', 'y'},\n",
    "    },\n",
    "    'poker': {\n",
    "        'data': 'datasets/realWord/poker/poker.data',\n",
    "        'labels': 'datasets/realWord/poker/poker.labels',\n",
    "        'fieldnames': {'x0', 'x1', 'x2', 'x3', 'x4',\n",
    "                       'x5', 'x6', 'x7', 'x8', 'x9'},\n",
    "    },\n",
    "    'weather': {\n",
    "        'data': 'datasets/realWord/weather/NEweather_data.csv',\n",
    "        'labels': 'datasets/realWord/weather/NEweather_class.csv',\n",
    "        'fieldnames': {'x0', 'x1', 'x2', 'x3', \n",
    "                       'x4', 'x5', 'x6', 'x7'},\n",
    "    },\n",
    "}\n",
    "\n",
    "all_metrics = [\n",
    "    'Accuracy',\n",
    "    'Precision',\n",
    "    'Recall',\n",
    "    'F1',\n",
    "    'GeometricMean',\n",
    "]\n",
    "\n",
    "for bas in bases:\n",
    "\n",
    "    print(f'starting {bas}, at {datetime.now()}')\n",
    "\n",
    "    try:\n",
    "        f = open(bases[bas]['labels'], 'r')\n",
    "        y = []\n",
    "        for line in f.readlines():\n",
    "            y.append(int(line))\n",
    "        f.close()\n",
    "        print(f'import {bas} labels, ok!')\n",
    "    except:\n",
    "        print('Y not found')\n",
    "    try:\n",
    "        f = open(bases[bas]['data'], 'r')\n",
    "        x = csv.DictReader(\n",
    "            f,\n",
    "            delimiter=' ',\n",
    "            quoting=csv.QUOTE_NONNUMERIC,\n",
    "            fieldnames=bases[bas]['fieldnames']\n",
    "        )\n",
    "        print(f'import {bas} data, ok!')\n",
    "    except:\n",
    "        print('X not found')\n",
    "\n",
    "\n",
    "    result = {}\n",
    "    for mod in algos:\n",
    "        _metric = {'y_pred': None}\n",
    "        for m in all_metrics:\n",
    "            _m = getattr(metrics, m)()\n",
    "            _metric.update({m: _m})\n",
    "        result.update({mod: _metric})\n",
    "\n",
    "    try:\n",
    "        w = open(f'results/{bas}.csv', 'w')\n",
    "        writer = csv.writer(w)\n",
    "        writer.writerow(['instance',\n",
    "                         'model', \n",
    "                         'Accuracy',\n",
    "                         'Precision',\n",
    "                         'Recall',\n",
    "                         'F1',\n",
    "                         'GeometricMean'\n",
    "                         ])\n",
    "    except:\n",
    "        print('Result file can\\'t be opened')\n",
    "\n",
    "    for i, _x in enumerate(x):\n",
    "        for mod in algos:\n",
    "            model = algos[mod]\n",
    "\n",
    "            # Test Then Train\n",
    "            # Test\n",
    "            result[mod]['y_pred'] = algos[mod].predict_one(_x)\n",
    "            # Train\n",
    "            algos[mod].learn_one(_x, y[i])\n",
    "\n",
    "            if result[mod]['y_pred'] is not None:\n",
    "                a = [i, mod]\n",
    "                for m in all_metrics:\n",
    "                    result[mod][m].update(y[i], result[mod]['y_pred'])\n",
    "                    a.append(result[mod][m].get())\n",
    "\n",
    "                writer.writerow(a)\n",
    "    print(f'finishing {bas}, at {datetime.now()}')\n",
    "    w.close()\n",
    "    f.close()"
   ]
  },
  {
   "cell_type": "code",
   "execution_count": 15,
   "metadata": {},
   "outputs": [
    {
     "name": "stderr",
     "output_type": "stream",
     "text": [
      "/tmp/ipykernel_10631/192577545.py:22: UserWarning: FixedFormatter should only be used together with FixedLocator\n",
      "  ax.set_yticklabels(['',0.2,0.4,0.6,0.8])\n",
      "/tmp/ipykernel_10631/192577545.py:22: UserWarning: FixedFormatter should only be used together with FixedLocator\n",
      "  ax.set_yticklabels(['',0.2,0.4,0.6,0.8])\n",
      "/tmp/ipykernel_10631/192577545.py:22: UserWarning: FixedFormatter should only be used together with FixedLocator\n",
      "  ax.set_yticklabels(['',0.2,0.4,0.6,0.8])\n",
      "/tmp/ipykernel_10631/192577545.py:22: UserWarning: FixedFormatter should only be used together with FixedLocator\n",
      "  ax.set_yticklabels(['',0.2,0.4,0.6,0.8])\n",
      "/tmp/ipykernel_10631/192577545.py:22: UserWarning: FixedFormatter should only be used together with FixedLocator\n",
      "  ax.set_yticklabels(['',0.2,0.4,0.6,0.8])\n",
      "/tmp/ipykernel_10631/192577545.py:22: UserWarning: FixedFormatter should only be used together with FixedLocator\n",
      "  ax.set_yticklabels(['',0.2,0.4,0.6,0.8])\n"
     ]
    },
    {
     "data": {
      "text/plain": [
       "<Figure size 1200x700 with 0 Axes>"
      ]
     },
     "metadata": {},
     "output_type": "display_data"
    },
    {
     "data": {
      "text/plain": [
       "<Figure size 1200x700 with 0 Axes>"
      ]
     },
     "metadata": {},
     "output_type": "display_data"
    },
    {
     "data": {
      "text/plain": [
       "<Figure size 1200x700 with 0 Axes>"
      ]
     },
     "metadata": {},
     "output_type": "display_data"
    },
    {
     "data": {
      "text/plain": [
       "<Figure size 1200x700 with 0 Axes>"
      ]
     },
     "metadata": {},
     "output_type": "display_data"
    },
    {
     "data": {
      "text/plain": [
       "<Figure size 1200x700 with 0 Axes>"
      ]
     },
     "metadata": {},
     "output_type": "display_data"
    },
    {
     "data": {
      "text/plain": [
       "<Figure size 1200x700 with 0 Axes>"
      ]
     },
     "metadata": {},
     "output_type": "display_data"
    }
   ],
   "source": [
    "import pandas as pd\n",
    "from matplotlib import pyplot as plt\n",
    "\n",
    "_algos = ['ensemble', 'tree', 'forest', 'neighbors']\n",
    "_bases = ['chess', 'rbf', 'sea', 'squares', 'poker', 'weather']\n",
    "_metrics = ['Accuracy', 'Precision', 'Recall', 'F1']\n",
    "for b in _bases:\n",
    "    fig, axs = plt.subplots(4, 1)\n",
    "    #fig.suptitle(f'{b.upper()}', fontsize=18, y=0.95)\n",
    "    fig.tight_layout(h_pad=None, w_pad=None, rect=None)\n",
    "    fig.set_figheight(7)\n",
    "    fig.set_figwidth(12)\n",
    "    fig.subplots_adjust(hspace=0)\n",
    "    fig.legend(labels=_algos)\n",
    "    df = pd.read_csv(f'results/{b}.csv')\n",
    "    for i, ax in enumerate(fig.axes):\n",
    "        for a in _algos:\n",
    "            ax.plot('instance', _metrics[i], data=df[df.model == a])\n",
    "            ax.set\n",
    "            ax.set_ylim(0,1)\n",
    "            ax.set_xlim(0,df['instance'].max())\n",
    "            ax.set_yticklabels(['',0.2,0.4,0.6,0.8])\n",
    "            ax.set_ylabel(f'{_metrics[i].upper()}')\n",
    "            if i < 3: \n",
    "                ax.set_xticklabels('')\n",
    "            else: ax.legend(_algos, loc='lower right')\n",
    "    fig.savefig(f'results/images/{b}.pdf')\n",
    "    fig.clf()"
   ]
  }
 ],
 "metadata": {
  "kernelspec": {
   "display_name": "venv",
   "language": "python",
   "name": "python3"
  },
  "language_info": {
   "codemirror_mode": {
    "name": "ipython",
    "version": 3
   },
   "file_extension": ".py",
   "mimetype": "text/x-python",
   "name": "python",
   "nbconvert_exporter": "python",
   "pygments_lexer": "ipython3",
   "version": "3.10.6"
  },
  "orig_nbformat": 4
 },
 "nbformat": 4,
 "nbformat_minor": 2
}
