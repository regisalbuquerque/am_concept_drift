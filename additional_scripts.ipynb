{
 "cells": [
  {
   "cell_type": "markdown",
   "metadata": {},
   "source": [
    "# Additional scripts to generate figures and tables\n"
   ]
  },
  {
   "cell_type": "code",
   "execution_count": 1,
   "metadata": {},
   "outputs": [],
   "source": [
    "import pandas as pd\n",
    "from matplotlib import pyplot as plt\n",
    "\n",
    "_algos = ['ensemble', 'tree', 'forest', 'neighbors']\n",
    "_bases = ['chess', 'rbf', 'sea', 'squares', 'poker', 'weather']\n",
    "_metrics = ['Accuracy', 'Precision', 'Recall', 'F1']\n"
   ]
  },
  {
   "cell_type": "markdown",
   "metadata": {},
   "source": [
    "The script below iterate bases, metrics, and algorithms. After all, it produces the figures in pdf format."
   ]
  },
  {
   "cell_type": "code",
   "execution_count": 2,
   "metadata": {},
   "outputs": [
    {
     "name": "stderr",
     "output_type": "stream",
     "text": [
      "/tmp/ipykernel_73899/3473670554.py:15: UserWarning: FixedFormatter should only be used together with FixedLocator\n",
      "  ax.set_yticklabels(['', 0.2, 0.4, 0.6, 0.8])\n",
      "/tmp/ipykernel_73899/3473670554.py:15: UserWarning: FixedFormatter should only be used together with FixedLocator\n",
      "  ax.set_yticklabels(['', 0.2, 0.4, 0.6, 0.8])\n",
      "/tmp/ipykernel_73899/3473670554.py:15: UserWarning: FixedFormatter should only be used together with FixedLocator\n",
      "  ax.set_yticklabels(['', 0.2, 0.4, 0.6, 0.8])\n",
      "/tmp/ipykernel_73899/3473670554.py:15: UserWarning: FixedFormatter should only be used together with FixedLocator\n",
      "  ax.set_yticklabels(['', 0.2, 0.4, 0.6, 0.8])\n",
      "/tmp/ipykernel_73899/3473670554.py:15: UserWarning: FixedFormatter should only be used together with FixedLocator\n",
      "  ax.set_yticklabels(['', 0.2, 0.4, 0.6, 0.8])\n",
      "/tmp/ipykernel_73899/3473670554.py:15: UserWarning: FixedFormatter should only be used together with FixedLocator\n",
      "  ax.set_yticklabels(['', 0.2, 0.4, 0.6, 0.8])\n"
     ]
    },
    {
     "data": {
      "text/plain": [
       "<Figure size 1200x700 with 0 Axes>"
      ]
     },
     "metadata": {},
     "output_type": "display_data"
    },
    {
     "data": {
      "text/plain": [
       "<Figure size 1200x700 with 0 Axes>"
      ]
     },
     "metadata": {},
     "output_type": "display_data"
    },
    {
     "data": {
      "text/plain": [
       "<Figure size 1200x700 with 0 Axes>"
      ]
     },
     "metadata": {},
     "output_type": "display_data"
    },
    {
     "data": {
      "text/plain": [
       "<Figure size 1200x700 with 0 Axes>"
      ]
     },
     "metadata": {},
     "output_type": "display_data"
    },
    {
     "data": {
      "text/plain": [
       "<Figure size 1200x700 with 0 Axes>"
      ]
     },
     "metadata": {},
     "output_type": "display_data"
    },
    {
     "data": {
      "text/plain": [
       "<Figure size 1200x700 with 0 Axes>"
      ]
     },
     "metadata": {},
     "output_type": "display_data"
    }
   ],
   "source": [
    "\n",
    "for b in _bases:\n",
    "    fig, axs = plt.subplots(4, 1)\n",
    "    fig.tight_layout(h_pad=None, w_pad=None, rect=None)\n",
    "    fig.set_figheight(7)\n",
    "    fig.set_figwidth(12)\n",
    "    fig.subplots_adjust(hspace=0)\n",
    "    fig.legend(labels=_algos)\n",
    "    df = pd.read_csv(f'results/{b}.csv')\n",
    "    for i, ax in enumerate(fig.axes):\n",
    "        for a in _algos:\n",
    "            ax.plot('instance', _metrics[i], data=df[df.model == a])\n",
    "            ax.set\n",
    "            ax.set_ylim(0, 1)\n",
    "            ax.set_xlim(0, df['instance'].max())\n",
    "            ax.set_yticklabels(['', 0.2, 0.4, 0.6, 0.8])\n",
    "            ax.set_ylabel(f'{_metrics[i].upper()}')\n",
    "            if i < 3:\n",
    "                ax.set_xticklabels('')\n",
    "            else:\n",
    "                ax.legend(_algos, loc='lower right')\n",
    "    fig.savefig(f'results/images/{b}.pdf')\n",
    "    fig.clf()"
   ]
  },
  {
   "cell_type": "markdown",
   "metadata": {},
   "source": [
    "This is the first version script to generate a result table. Moreover it's difficult to compare"
   ]
  },
  {
   "cell_type": "code",
   "execution_count": 5,
   "metadata": {},
   "outputs": [
    {
     "name": "stdout",
     "output_type": "stream",
     "text": [
      "\\begin{tabular}{llrrrrrr}\n",
      "\\toprule\n",
      " &  & chess & rbf & sea & squares & poker & weather \\\\\n",
      "Classifiers & Results &  &  &  &  &  &  \\\\\n",
      "\\midrule\n",
      "\\multirow[t]{4}{*}{ensemble} & Accuracy & 0.9488 & 0.5743 & 0.8752 & NaN & 0.7816 & 0.7759 \\\\\n",
      " & Precision & 0.9348 & 0.5803 & 0.8712 & NaN & 0.7904 & 0.6699 \\\\\n",
      " & Recall & 0.9293 & 0.4661 & 0.7743 & NaN & 0.7086 & 0.5123 \\\\\n",
      " & F1 & 0.9319 & 0.5168 & 0.8198 & NaN & 0.7469 & 0.5792 \\\\\n",
      "\\cline{1-8}\n",
      "\\multirow[t]{4}{*}{tree} & Accuracy & 0.7655 & 0.4560 & 0.8457 & NaN & 0.6295 & 0.7359 \\\\\n",
      " & Precision & 0.8040 & 0.4367 & 0.8474 & NaN & 0.7016 & 0.5840 \\\\\n",
      " & Recall & 0.7426 & 0.3452 & 0.7075 & NaN & 0.4127 & 0.4493 \\\\\n",
      " & F1 & 0.7703 & 0.3853 & 0.7708 & NaN & 0.5175 & 0.5020 \\\\\n",
      "\\cline{1-8}\n",
      "\\multirow[t]{4}{*}{forest} & Accuracy & 0.7779 & 0.6498 & 0.8753 & NaN & 0.7928 & 0.7751 \\\\\n",
      " & Precision & 0.7609 & 0.6860 & 0.8619 & NaN & 0.7866 & 0.6927 \\\\\n",
      " & Recall & 0.7696 & 0.4888 & 0.7865 & NaN & 0.7399 & 0.4525 \\\\\n",
      " & F1 & 0.7652 & 0.5699 & 0.8224 & NaN & 0.7624 & 0.5458 \\\\\n",
      "\\cline{1-8}\n",
      "\\multirow[t]{4}{*}{neighbors} & Accuracy & 0.9345 & 0.8438 & 0.8873 & NaN & 0.8247 & 0.7796 \\\\\n",
      " & Precision & 0.9243 & 0.8406 & 0.8814 & NaN & 0.8138 & 0.6970 \\\\\n",
      " & Recall & 0.9283 & 0.7552 & 0.8003 & NaN & 0.7954 & 0.4709 \\\\\n",
      " & F1 & 0.9263 & 0.7955 & 0.8388 & NaN & 0.8044 & 0.5616 \\\\\n",
      "\\cline{1-8}\n",
      "\\bottomrule\n",
      "\\end{tabular}\n",
      "\n"
     ]
    }
   ],
   "source": [
    "dictii = {}\n",
    "for a in _algos:\n",
    "    dictii.update({a: {}})\n",
    "    for m in _metrics:\n",
    "        dictii[a].update({m: {}})\n",
    "\n",
    "for b in _bases:\n",
    "    df = pd.read_csv(f'results/{b}.csv')\n",
    "    for a in _algos:\n",
    "        for m in _metrics:\n",
    "            r = df[df.model == a][m].mean()\n",
    "            dictii[a][m].update({b: r})\n",
    "\n",
    "# dictii\n",
    "\n",
    "table = []\n",
    "for a in _algos:\n",
    "    for m in _metrics:\n",
    "        row = [a, m]\n",
    "        for b in _bases:\n",
    "            r = dictii[a][m][b]\n",
    "            row.append(r)\n",
    "        table.append(row)\n",
    "\n",
    "columns = ['Classifiers', 'Results'] + _bases\n",
    "df = pd.DataFrame(table, columns=columns)\n",
    "df2 = df.set_index(['Classifiers', 'Results'], append=True).swaplevel(0,1).droplevel(1)\n",
    "# df2\n",
    "\n",
    "\n",
    "print(df2.to_latex(float_format=\"{:0.4f}\".format))"
   ]
  },
  {
   "cell_type": "markdown",
   "metadata": {},
   "source": [
    "The second version is more efficient and more understandable than first one."
   ]
  },
  {
   "cell_type": "code",
   "execution_count": 57,
   "metadata": {},
   "outputs": [
    {
     "name": "stdout",
     "output_type": "stream",
     "text": [
      "\\begin{tabular}{llrrrr}\n",
      "\\toprule\n",
      " &  & ensemble & tree & forest & neighbors \\\\\n",
      "Bases & Results &  &  &  &  \\\\\n",
      "\\midrule\n",
      "\\multirow[t]{4}{*}{chess} & Accuracy & 0.9488 & 0.7655 & 0.7779 & 0.9345 \\\\\n",
      " & Precision & 0.9348 & 0.8040 & 0.7609 & 0.9243 \\\\\n",
      " & Recall & 0.9293 & 0.7426 & 0.7696 & 0.9283 \\\\\n",
      " & F1 & 0.9319 & 0.7703 & 0.7652 & 0.9263 \\\\\n",
      "\\cline{1-6}\n",
      "\\multirow[t]{4}{*}{rbf} & Accuracy & 0.5743 & 0.4560 & 0.6498 & 0.8438 \\\\\n",
      " & Precision & 0.5803 & 0.4367 & 0.6860 & 0.8406 \\\\\n",
      " & Recall & 0.4661 & 0.3452 & 0.4888 & 0.7552 \\\\\n",
      " & F1 & 0.5168 & 0.3853 & 0.5699 & 0.7955 \\\\\n",
      "\\cline{1-6}\n",
      "\\multirow[t]{4}{*}{sea} & Accuracy & 0.8752 & 0.8457 & 0.8753 & 0.8873 \\\\\n",
      " & Precision & 0.8712 & 0.8474 & 0.8619 & 0.8814 \\\\\n",
      " & Recall & 0.7743 & 0.7075 & 0.7865 & 0.8003 \\\\\n",
      " & F1 & 0.8198 & 0.7708 & 0.8224 & 0.8388 \\\\\n",
      "\\cline{1-6}\n",
      "\\multirow[t]{4}{*}{squares} & Accuracy & 0.8194 & 0.4058 & 0.5524 & 0.9728 \\\\\n",
      " & Precision & 0.7210 & 0.3994 & 0.4363 & 0.9637 \\\\\n",
      " & Recall & 0.8076 & 0.2644 & 0.4303 & 0.9631 \\\\\n",
      " & F1 & 0.7616 & 0.3167 & 0.4332 & 0.9634 \\\\\n",
      "\\cline{1-6}\n",
      "\\multirow[t]{4}{*}{poker} & Accuracy & 0.7816 & 0.6295 & 0.7928 & 0.8247 \\\\\n",
      " & Precision & 0.7904 & 0.7016 & 0.7866 & 0.8138 \\\\\n",
      " & Recall & 0.7086 & 0.4127 & 0.7399 & 0.7954 \\\\\n",
      " & F1 & 0.7469 & 0.5175 & 0.7624 & 0.8044 \\\\\n",
      "\\cline{1-6}\n",
      "\\multirow[t]{4}{*}{weather} & Accuracy & 0.7759 & 0.7359 & 0.7751 & 0.7796 \\\\\n",
      " & Precision & 0.6699 & 0.5840 & 0.6927 & 0.6970 \\\\\n",
      " & Recall & 0.5123 & 0.4493 & 0.4525 & 0.4709 \\\\\n",
      " & F1 & 0.5792 & 0.5020 & 0.5458 & 0.5616 \\\\\n",
      "\\cline{1-6}\n",
      "\\bottomrule\n",
      "\\end{tabular}\n",
      "\n"
     ]
    }
   ],
   "source": [
    "import pandas as pd\n",
    "\n",
    "_algos = ['ensemble', 'tree', 'forest', 'neighbors']\n",
    "_bases = ['chess', 'rbf', 'sea', 'squares', 'poker', 'weather']\n",
    "_metrics = ['Accuracy', 'Precision', 'Recall', 'F1']\n",
    "\n",
    "table = []\n",
    "for b in _bases:\n",
    "    df = pd.read_csv(f'results/{b}.csv')\n",
    "    for m in _metrics:\n",
    "        row = [b, m]\n",
    "        for a in _algos:\n",
    "            r = df[df.model == a][m].mean()\n",
    "            row.append(r)\n",
    "        table.append(row)\n",
    "columns = ['Bases', 'Results'] + _algos\n",
    "df = pd.DataFrame(table, columns=columns)\n",
    "df2 = df.set_index(['Bases', 'Results'], append=True).swaplevel(0,1).droplevel(1)\n",
    "print(df2.to_latex(float_format=\"{:0.4f}\".format))"
   ]
  },
  {
   "cell_type": "code",
   "execution_count": 39,
   "metadata": {},
   "outputs": [],
   "source": [
    "import pandas as pd\n",
    "\n",
    "df1 = pd.read_csv('results/squares_others.csv')\n",
    "df2 = pd.read_csv('results/squares_tree.csv')\n",
    "df3 = pd.concat([df1,df2], ignore_index=True)\n",
    "df3.sort_values(by='instance', ignore_index=True, inplace=True)\n",
    "df3.to_csv('results/squares.csv', index=False)\n"
   ]
  }
 ],
 "metadata": {
  "kernelspec": {
   "display_name": "venv",
   "language": "python",
   "name": "python3"
  },
  "language_info": {
   "codemirror_mode": {
    "name": "ipython",
    "version": 3
   },
   "file_extension": ".py",
   "mimetype": "text/x-python",
   "name": "python",
   "nbconvert_exporter": "python",
   "pygments_lexer": "ipython3",
   "version": "3.10.6"
  },
  "orig_nbformat": 4
 },
 "nbformat": 4,
 "nbformat_minor": 2
}
