{
 "cells": [
  {
   "cell_type": "code",
   "execution_count": 5,
   "metadata": {},
   "outputs": [],
   "source": [
    "#!python3 -m venv venv\n",
    "#!source venv/bin/activate\n",
    "#!pip install numpy pandas matplotlib seaborn nbformat ffmpeg\n"
   ]
  },
  {
   "cell_type": "code",
   "execution_count": 1,
   "metadata": {},
   "outputs": [],
   "source": [
    "import numpy as np\n",
    "import pandas as pd\n",
    "import matplotlib\n",
    "import matplotlib.pyplot as plt\n",
    "import matplotlib.animation as animation\n",
    "from matplotlib import pylab\n",
    "import seaborn as sns\n",
    "import graphviz\n"
   ]
  },
  {
   "cell_type": "code",
   "execution_count": 2,
   "metadata": {},
   "outputs": [],
   "source": [
    "SEA_training_data = pd.read_csv(\n",
    "    \"artificial/sea/SEA_training_data.csv\", names=[\"x\", \"y\", \"z\"], header=None)\n",
    "SEA_training_class = pd.read_csv(\n",
    "    \"artificial/sea/SEA_training_class.csv\", names=[\"class\"], header=None)\n",
    "sea = SEA_training_data\n",
    "sea[\"class\"] = SEA_training_class[\"class\"]\n",
    "sea.to_csv(\"artificial/sea/sea.csv\", index=False)\n"
   ]
  },
  {
   "cell_type": "code",
   "execution_count": 5,
   "metadata": {},
   "outputs": [],
   "source": [
    "RBF_training_data = pd.read_csv(\n",
    "    \"artificial/rbf/movingRBF.data\", sep=\" \", header=None)\n",
    "RBF_training_class = pd.read_csv(\n",
    "    \"artificial/rbf/movingRBF.labels\", header=None)\n",
    "rbf = RBF_training_data\n",
    "rbf[\"labels\"] = RBF_training_class[0]\n",
    "rbf.to_csv(\"artificial/rbf/rbf.csv\", index=False)"
   ]
  },
  {
   "cell_type": "code",
   "execution_count": 1,
   "metadata": {},
   "outputs": [
    {
     "ename": "NameError",
     "evalue": "name 'sea' is not defined",
     "output_type": "error",
     "traceback": [
      "\u001b[0;31m---------------------------------------------------------------------------\u001b[0m",
      "\u001b[0;31mNameError\u001b[0m                                 Traceback (most recent call last)",
      "Cell \u001b[0;32mIn[1], line 3\u001b[0m\n\u001b[1;32m      1\u001b[0m points \u001b[39m=\u001b[39m \u001b[39m2500\u001b[39m\n\u001b[1;32m      2\u001b[0m expected_time \u001b[39m=\u001b[39m \u001b[39m10000\u001b[39m\n\u001b[0;32m----> 3\u001b[0m df_len \u001b[39m=\u001b[39m \u001b[39mlen\u001b[39m(sea)\n\u001b[1;32m      4\u001b[0m _frames \u001b[39m=\u001b[39m \u001b[39m100\u001b[39m\n\u001b[1;32m      5\u001b[0m _interval \u001b[39m=\u001b[39m \u001b[39mint\u001b[39m(expected_time\u001b[39m/\u001b[39m_frames)\n",
      "\u001b[0;31mNameError\u001b[0m: name 'sea' is not defined"
     ]
    }
   ],
   "source": [
    "points = 2500\n",
    "expected_time = 10000\n",
    "df_len = len(sea)\n",
    "_frames = 100\n",
    "_interval = int(expected_time/_frames)\n",
    "step = int((df_len-points)/_frames)\n",
    "\n",
    "fig, ax = plt.subplots()\n",
    "fig.set()\n",
    "fig.set_figheight(5)\n",
    "fig.set_figwidth(5)\n",
    "\n",
    "\n",
    "def animate(i):\n",
    "    plt.clf()\n",
    "    plt.title(\"frame: \"+str(i))\n",
    "    ax = sns.scatterplot(sea[i*step:i*step+points],\n",
    "                         x=\"x\", y=\"y\", hue=\"class\", s=50.0)\n",
    "    ax.set(xlim=(0, 10), ylim=(0, 10))\n",
    "    ax.legend([], [], frameon=False)\n",
    "\n",
    "\n",
    "ani = animation.FuncAnimation(\n",
    "    fig, animate, frames=_frames, interval=_interval, repeat=True)\n",
    "\n",
    "writer = animation.PillowWriter(fps=5)\n",
    "ani.save('images/sea_drift.gif', writer=writer)\n"
   ]
  },
  {
   "cell_type": "code",
   "execution_count": null,
   "metadata": {},
   "outputs": [],
   "source": [
    "#!sudo apt install rustc cargo\n",
    "#!pip install git+https: // github.com/online-ml/river - -upgrade\n"
   ]
  },
  {
   "cell_type": "code",
   "execution_count": 3,
   "metadata": {},
   "outputs": [
    {
     "data": {
      "text/plain": [
       "Accuracy: 86.00%"
      ]
     },
     "execution_count": 3,
     "metadata": {},
     "output_type": "execute_result"
    }
   ],
   "source": [
    "import functools\n",
    "from river import stream\n",
    "from river import evaluate\n",
    "from river import metrics\n",
    "from river import neighbors\n",
    "from river import preprocessing\n",
    "from river import utils\n",
    "\n",
    "params = {\n",
    "    'converters': {'x': float, 'y': float, 'z': float},\n",
    "    'target': 'labels'\n",
    "}\n",
    "\n",
    "dataset = stream.iter_csv(\"artificial/sea/sea.csv\", **params)\n",
    "\n",
    "dist = functools.partial(utils.math.minkowski_distance, p=1)\n",
    "\n",
    "model = (\n",
    "    preprocessing.StandardScaler() |\n",
    "    neighbors.KNNClassifier(\n",
    "        engine=neighbors.SWINN(\n",
    "            dist_func=dist,\n",
    "            seed=42\n",
    "        )\n",
    "    )\n",
    ")\n",
    "\n",
    "evaluate.progressive_val_score(dataset, model, metrics.Accuracy(), drop=[\"z\"])\n"
   ]
  },
  {
   "cell_type": "code",
   "execution_count": null,
   "metadata": {},
   "outputs": [],
   "source": [
    "metrics.roc_auc()\n"
   ]
  },
  {
   "cell_type": "code",
   "execution_count": 7,
   "metadata": {},
   "outputs": [],
   "source": [
    "import pandas as pd\n",
    "\n",
    "df = pd.read_csv(\"artificial/sea/sea.csv\")\n"
   ]
  },
  {
   "cell_type": "code",
   "execution_count": 16,
   "metadata": {},
   "outputs": [
    {
     "data": {
      "text/plain": [
       "0.38096"
      ]
     },
     "execution_count": 16,
     "metadata": {},
     "output_type": "execute_result"
    }
   ],
   "source": [
    "df[df[\"class\"] == 1].shape[0]/df.shape[0]\n"
   ]
  }
 ],
 "metadata": {
  "kernelspec": {
   "display_name": "venv",
   "language": "python",
   "name": "python3"
  },
  "language_info": {
   "codemirror_mode": {
    "name": "ipython",
    "version": 3
   },
   "file_extension": ".py",
   "mimetype": "text/x-python",
   "name": "python",
   "nbconvert_exporter": "python",
   "pygments_lexer": "ipython3",
   "version": "3.10.6"
  },
  "orig_nbformat": 4
 },
 "nbformat": 4,
 "nbformat_minor": 2
}
